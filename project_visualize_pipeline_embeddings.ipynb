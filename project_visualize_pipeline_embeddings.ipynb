{
 "cells": [
  {
   "cell_type": "code",
   "execution_count": 1,
   "metadata": {
    "pycharm": {
     "is_executing": false
    }
   },
   "outputs": [
    {
     "name": "stderr",
     "output_type": "stream",
     "text": [
      "/Users/chdallago/miniconda3/envs/allennlp/lib/python3.6/site-packages/sklearn/utils/linear_assignment_.py:21: DeprecationWarning: The linear_assignment_ module is deprecated in 0.21 and will be removed from 0.23. Use scipy.optimize.linear_sum_assignment instead.\n",
      "  DeprecationWarning)\n"
     ]
    }
   ],
   "source": [
    "import h5py\n",
    "import numpy as np\n",
    "from pandas import read_csv\n",
    "from bio_embeddings.project import tsne_reduce\n",
    "from bio_embeddings.visualize import render_3D_scatter_plotly, save_plotly_figure_to_html"
   ]
  },
  {
   "cell_type": "code",
   "execution_count": 2,
   "metadata": {
    "pycharm": {
     "is_executing": false
    }
   },
   "outputs": [],
   "source": [
    "mapping_file = read_csv('mapping_file.csv', index_col=0)"
   ]
  },
  {
   "cell_type": "code",
   "execution_count": 3,
   "metadata": {
    "pycharm": {
     "is_executing": false
    }
   },
   "outputs": [],
   "source": [
    "embeddings = []\n",
    "with h5py.File('reduced_embeddings_file.h5', 'r') as f:\n",
    "    for remapped_id in mapping_file.index:\n",
    "        embeddings.append(np.array(f[remapped_id]))"
   ]
  },
  {
   "cell_type": "code",
   "execution_count": 4,
   "metadata": {
    "pycharm": {
     "is_executing": false
    }
   },
   "outputs": [
    {
     "name": "stdout",
     "output_type": "stream",
     "text": [
      "[t-SNE] Computing 91 nearest neighbors...\n",
      "[t-SNE] Indexed 1162 samples in 0.001s...\n",
      "[t-SNE] Computed neighbors for 1162 samples in 0.040s...\n",
      "[t-SNE] Computed conditional probabilities for sample 1000 / 1162\n",
      "[t-SNE] Computed conditional probabilities for sample 1162 / 1162\n",
      "[t-SNE] Mean sigma: 0.183682\n",
      "[t-SNE] KL divergence after 250 iterations with early exaggeration: 78.617180\n",
      "[t-SNE] KL divergence after 8600 iterations: 1.262826\n"
     ]
    }
   ],
   "source": [
    "options = {\n",
    "    'perplexity': 30,\n",
    "    'n_iter': 20000\n",
    "}\n",
    "\n",
    "projected_embeddings = tsne_reduce(embeddings, **options)"
   ]
  },
  {
   "cell_type": "code",
   "execution_count": 5,
   "metadata": {
    "pycharm": {
     "is_executing": false
    }
   },
   "outputs": [],
   "source": [
    "mapping_file['x'] = projected_embeddings[:, 0]\n",
    "mapping_file['y'] = projected_embeddings[:, 1]\n",
    "mapping_file['z'] = projected_embeddings[:, 2]"
   ]
  },
  {
   "cell_type": "code",
   "execution_count": 6,
   "metadata": {
    "pycharm": {
     "is_executing": false
    }
   },
   "outputs": [],
   "source": [
    "annotation_files = ['disprot_2019_09_floats.csv', \n",
    "                    'disprot_2019_09_extreme_ends_0.2vs0.8.csv', \n",
    "                    'disprot_2019_09_extreme_ends_0.3vs0.7.csv', \n",
    "                    'disprot_2019_09_extreme_ends_0.5vs0.5.csv',\n",
    "                    'disprot_2019_09_3classes_0.2_0.8.csv']\n",
    "\n",
    "for annotation_file_path in annotation_files:\n",
    "    annotation_file = read_csv(annotation_file_path, index_col=0)\n",
    "\n",
    "    merged_annotation_file = annotation_file.join(mapping_file.set_index('original_id'))\n",
    "    figure = render_3D_scatter_plotly(merged_annotation_file)\n",
    "    save_plotly_figure_to_html(figure, str(annotation_file_path + \".html\"))"
   ]
  },
  {
   "cell_type": "code",
   "execution_count": null,
   "metadata": {},
   "outputs": [],
   "source": []
  }
 ],
 "metadata": {
  "kernelspec": {
   "display_name": "Python 3",
   "language": "python",
   "name": "python3"
  },
  "language_info": {
   "codemirror_mode": {
    "name": "ipython",
    "version": 3
   },
   "file_extension": ".py",
   "mimetype": "text/x-python",
   "name": "python",
   "nbconvert_exporter": "python",
   "pygments_lexer": "ipython3",
   "version": "3.6.8"
  }
 },
 "nbformat": 4,
 "nbformat_minor": 2
}
