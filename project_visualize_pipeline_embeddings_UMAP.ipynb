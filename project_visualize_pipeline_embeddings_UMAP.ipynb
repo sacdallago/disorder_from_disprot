{
 "cells": [
  {
   "cell_type": "code",
   "execution_count": 1,
   "metadata": {
    "pycharm": {
     "is_executing": false
    }
   },
   "outputs": [
    {
     "name": "stderr",
     "output_type": "stream",
     "text": [
      "/Users/chdallago/miniconda3/envs/allennlp/lib/python3.6/site-packages/sklearn/utils/linear_assignment_.py:22: FutureWarning: The linear_assignment_ module is deprecated in 0.21 and will be removed from 0.23. Use scipy.optimize.linear_sum_assignment instead.\n",
      "  FutureWarning)\n",
      "/Users/chdallago/miniconda3/envs/allennlp/lib/python3.6/site-packages/tensorflow/python/framework/dtypes.py:458: FutureWarning: Passing (type, 1) or '1type' as a synonym of type is deprecated; in a future version of numpy, it will be understood as (type, (1,)) / '(1,)type'.\n",
      "  _np_qint8 = np.dtype([(\"qint8\", np.int8, 1)])\n",
      "/Users/chdallago/miniconda3/envs/allennlp/lib/python3.6/site-packages/tensorflow/python/framework/dtypes.py:459: FutureWarning: Passing (type, 1) or '1type' as a synonym of type is deprecated; in a future version of numpy, it will be understood as (type, (1,)) / '(1,)type'.\n",
      "  _np_quint8 = np.dtype([(\"quint8\", np.uint8, 1)])\n",
      "/Users/chdallago/miniconda3/envs/allennlp/lib/python3.6/site-packages/tensorflow/python/framework/dtypes.py:460: FutureWarning: Passing (type, 1) or '1type' as a synonym of type is deprecated; in a future version of numpy, it will be understood as (type, (1,)) / '(1,)type'.\n",
      "  _np_qint16 = np.dtype([(\"qint16\", np.int16, 1)])\n",
      "/Users/chdallago/miniconda3/envs/allennlp/lib/python3.6/site-packages/tensorflow/python/framework/dtypes.py:461: FutureWarning: Passing (type, 1) or '1type' as a synonym of type is deprecated; in a future version of numpy, it will be understood as (type, (1,)) / '(1,)type'.\n",
      "  _np_quint16 = np.dtype([(\"quint16\", np.uint16, 1)])\n",
      "/Users/chdallago/miniconda3/envs/allennlp/lib/python3.6/site-packages/tensorflow/python/framework/dtypes.py:462: FutureWarning: Passing (type, 1) or '1type' as a synonym of type is deprecated; in a future version of numpy, it will be understood as (type, (1,)) / '(1,)type'.\n",
      "  _np_qint32 = np.dtype([(\"qint32\", np.int32, 1)])\n",
      "/Users/chdallago/miniconda3/envs/allennlp/lib/python3.6/site-packages/tensorflow/python/framework/dtypes.py:465: FutureWarning: Passing (type, 1) or '1type' as a synonym of type is deprecated; in a future version of numpy, it will be understood as (type, (1,)) / '(1,)type'.\n",
      "  np_resource = np.dtype([(\"resource\", np.ubyte, 1)])\n"
     ]
    }
   ],
   "source": [
    "import h5py\n",
    "import numpy as np\n",
    "from pandas import read_csv\n",
    "from umap import UMAP\n",
    "from bio_embeddings.project import tsne_reduce\n",
    "from bio_embeddings.visualize import render_3D_scatter_plotly, save_plotly_figure_to_html"
   ]
  },
  {
   "cell_type": "code",
   "execution_count": 2,
   "metadata": {
    "pycharm": {
     "is_executing": false
    }
   },
   "outputs": [],
   "source": [
    "mapping_file = read_csv('mapping_file.csv', index_col=0)"
   ]
  },
  {
   "cell_type": "code",
   "execution_count": 3,
   "metadata": {
    "pycharm": {
     "is_executing": false
    }
   },
   "outputs": [],
   "source": [
    "embeddings = []\n",
    "with h5py.File('reduced_embeddings_file.h5', 'r') as f:\n",
    "    for remapped_id in mapping_file.index:\n",
    "        embeddings.append(np.array(f[remapped_id]))"
   ]
  },
  {
   "cell_type": "code",
   "execution_count": 4,
   "metadata": {
    "pycharm": {
     "is_executing": false
    }
   },
   "outputs": [
    {
     "name": "stdout",
     "output_type": "stream",
     "text": [
      "UMAP(a=None, angular_rp_forest=True, b=None,\n",
      "     force_approximation_algorithm=False, init='spectral', learning_rate=1.0,\n",
      "     local_connectivity=1.0, low_memory=False, metric='cosine',\n",
      "     metric_kwds=None, min_dist=0.6, n_components=3, n_epochs=None,\n",
      "     n_neighbors=15, negative_sample_rate=5, output_metric='euclidean',\n",
      "     output_metric_kwds=None, random_state=420, repulsion_strength=1.0,\n",
      "     set_op_mix_ratio=1.0, spread=1.0, target_metric='categorical',\n",
      "     target_metric_kwds=None, target_n_neighbors=-1, target_weight=0.5,\n",
      "     transform_queue_size=4.0, transform_seed=42, unique=False, verbose=1)\n",
      "Construct fuzzy simplicial set\n",
      "Thu Apr 30 17:59:10 2020 Finding Nearest Neighbors\n"
     ]
    },
    {
     "name": "stderr",
     "output_type": "stream",
     "text": [
      "/Users/chdallago/miniconda3/envs/allennlp/lib/python3.6/site-packages/numba/np/ufunc/parallel.py:355: NumbaWarning:\n",
      "\n",
      "\u001b[1mThe TBB threading layer requires TBB version 2019.5 or later i.e., TBB_INTERFACE_VERSION >= 11005. Found TBB_INTERFACE_VERSION = 11000. The TBB threading layer is disabled.\u001b[0m\n",
      "\n"
     ]
    },
    {
     "name": "stdout",
     "output_type": "stream",
     "text": [
      "Thu Apr 30 17:59:13 2020 Finished Nearest Neighbor Search\n",
      "Thu Apr 30 17:59:15 2020 Construct embedding\n",
      "\tcompleted  0  /  500 epochs\n",
      "\tcompleted  50  /  500 epochs\n",
      "\tcompleted  100  /  500 epochs\n",
      "\tcompleted  150  /  500 epochs\n",
      "\tcompleted  200  /  500 epochs\n",
      "\tcompleted  250  /  500 epochs\n",
      "\tcompleted  300  /  500 epochs\n",
      "\tcompleted  350  /  500 epochs\n",
      "\tcompleted  400  /  500 epochs\n",
      "\tcompleted  450  /  500 epochs\n",
      "Thu Apr 30 17:59:18 2020 Finished embedding\n"
     ]
    }
   ],
   "source": [
    "umap_params = dict()\n",
    "umap_params['n_components'] = 3\n",
    "umap_params['min_dist'] = 0.6\n",
    "umap_params['random_state'] = 420\n",
    "umap_params['n_neighbors'] = 15\n",
    "umap_params['verbose'] = 1\n",
    "umap_params['metric'] = 'cosine'\n",
    "\n",
    "transformed_embeddings = UMAP(**umap_params).fit_transform(embeddings)"
   ]
  },
  {
   "cell_type": "code",
   "execution_count": 5,
   "metadata": {
    "pycharm": {
     "is_executing": false
    }
   },
   "outputs": [],
   "source": [
    "mapping_file['x'] = transformed_embeddings[:, 0]\n",
    "mapping_file['y'] = transformed_embeddings[:, 1]\n",
    "mapping_file['z'] = transformed_embeddings[:, 2]"
   ]
  },
  {
   "cell_type": "code",
   "execution_count": 6,
   "metadata": {},
   "outputs": [],
   "source": [
    "mapping_file.to_csv('projected_embeddings_file_UMAP.csv')"
   ]
  },
  {
   "cell_type": "code",
   "execution_count": 8,
   "metadata": {
    "pycharm": {
     "is_executing": false
    }
   },
   "outputs": [],
   "source": [
    "annotations_files_folder = 'annotations/'\n",
    "figures_files_fodler = 'figures/'\n",
    "\n",
    "annotation_files = ['disprot_2019_09_floats.csv', \n",
    "                    'disprot_2019_09_extreme_ends_0.2vs0.8.csv', \n",
    "                    'disprot_2019_09_extreme_ends_0.3vs0.7.csv', \n",
    "                    'disprot_2019_09_extreme_ends_0.5vs0.5.csv',\n",
    "                    'disprot_2019_09_3classes_0.2_0.8.csv']\n",
    "\n",
    "for annotation_file_path in annotation_files:\n",
    "    annotation_file = read_csv(str(annotations_files_folder + annotation_file_path), index_col=0)\n",
    "    if annotation_file['label'].nunique() < 3:\n",
    "        annotation_file['label'] = annotation_file['label'].apply(str)\n",
    "\n",
    "    merged_annotation_file = annotation_file.join(mapping_file.set_index('original_id'))\n",
    "    figure = render_3D_scatter_plotly(merged_annotation_file)\n",
    "    save_plotly_figure_to_html(figure, str(figures_files_fodler + annotation_file_path + \".html\"))"
   ]
  },
  {
   "cell_type": "code",
   "execution_count": null,
   "metadata": {},
   "outputs": [],
   "source": []
  }
 ],
 "metadata": {
  "kernelspec": {
   "display_name": "Python 3",
   "language": "python",
   "name": "python3"
  },
  "language_info": {
   "codemirror_mode": {
    "name": "ipython",
    "version": 3
   },
   "file_extension": ".py",
   "mimetype": "text/x-python",
   "name": "python",
   "nbconvert_exporter": "python",
   "pygments_lexer": "ipython3",
   "version": "3.6.8"
  }
 },
 "nbformat": 4,
 "nbformat_minor": 2
}
