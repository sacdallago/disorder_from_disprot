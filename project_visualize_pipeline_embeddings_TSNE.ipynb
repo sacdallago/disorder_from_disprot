{
 "cells": [
  {
   "cell_type": "code",
   "execution_count": null,
   "metadata": {
    "pycharm": {
     "is_executing": false
    }
   },
   "outputs": [],
   "source": [
    "import h5py\n",
    "import numpy as np\n",
    "from pandas import read_csv\n",
    "from sklearn.manifold import TSNE\n",
    "from bio_embeddings.visualize import render_3D_scatter_plotly, save_plotly_figure_to_html"
   ]
  },
  {
   "cell_type": "code",
   "execution_count": null,
   "metadata": {
    "pycharm": {
     "is_executing": false
    }
   },
   "outputs": [],
   "source": [
    "mapping_file = read_csv('mapping_file.csv', index_col=0)"
   ]
  },
  {
   "cell_type": "code",
   "execution_count": null,
   "metadata": {
    "pycharm": {
     "is_executing": false
    }
   },
   "outputs": [],
   "source": [
    "embeddings = []\n",
    "with h5py.File('reduced_embeddings_file.h5', 'r') as f:\n",
    "    for remapped_id in mapping_file.index:\n",
    "        embeddings.append(np.array(f[str(remapped_id)]))"
   ]
  },
  {
   "cell_type": "code",
   "execution_count": null,
   "metadata": {},
   "outputs": [],
   "source": [
    "tsne_params = dict()\n",
    "tsne_params['n_components'] = 3\n",
    "tsne_params['perplexity'] = 30\n",
    "tsne_params['random_state'] = 420\n",
    "tsne_params['n_iter'] = 15000\n",
    "tsne_params['verbose'] = 1\n",
    "tsne_params['n_jobs'] = -1\n",
    "tsne_params['metric'] = 'cosine'\n",
    "\n",
    "transformed_embeddings = TSNE(**tsne_params).fit_transform(embeddings)"
   ]
  },
  {
   "cell_type": "code",
   "execution_count": null,
   "metadata": {
    "pycharm": {
     "is_executing": false
    }
   },
   "outputs": [],
   "source": [
    "mapping_file['x'] = transformed_embeddings[:, 0]\n",
    "mapping_file['y'] = transformed_embeddings[:, 1]\n",
    "mapping_file['z'] = transformed_embeddings[:, 2]"
   ]
  },
  {
   "cell_type": "code",
   "execution_count": null,
   "metadata": {},
   "outputs": [],
   "source": [
    "mapping_file.to_csv('projected_embeddings_file_TSNE.csv')"
   ]
  },
  {
   "cell_type": "code",
   "execution_count": null,
   "metadata": {
    "pycharm": {
     "is_executing": false
    }
   },
   "outputs": [],
   "source": [
    "annotations_files_folder = 'annotations/'\n",
    "figures_files_fodler = 'figures/'\n",
    "\n",
    "annotation_files = ['disprot_2019_09_floats.csv', \n",
    "                    'disprot_2019_09_extreme_ends_0.2vs0.8.csv', \n",
    "                    'disprot_2019_09_extreme_ends_0.3vs0.7.csv', \n",
    "                    'disprot_2019_09_extreme_ends_0.5vs0.5.csv',\n",
    "                    'disprot_2019_09_3classes_0.2_0.8.csv']\n",
    "\n",
    "for annotation_file_path in annotation_files:\n",
    "    annotation_file = read_csv(str(annotations_files_folder + annotation_file_path), index_col=0)\n",
    "    if annotation_file['label'].nunique() < 3:\n",
    "        annotation_file['label'] = annotation_file['label'].apply(str)\n",
    "\n",
    "    merged_annotation_file = annotation_file.join(mapping_file.set_index('original_id'))\n",
    "    figure = render_3D_scatter_plotly(merged_annotation_file)\n",
    "    save_plotly_figure_to_html(figure, str(figures_files_fodler + annotation_file_path + \".html\"))"
   ]
  }
 ],
 "metadata": {
  "kernelspec": {
   "display_name": "Python 3",
   "language": "python",
   "name": "python3"
  },
  "language_info": {
   "codemirror_mode": {
    "name": "ipython",
    "version": 3
   },
   "file_extension": ".py",
   "mimetype": "text/x-python",
   "name": "python",
   "nbconvert_exporter": "python",
   "pygments_lexer": "ipython3",
   "version": "3.6.8"
  }
 },
 "nbformat": 4,
 "nbformat_minor": 2
}
